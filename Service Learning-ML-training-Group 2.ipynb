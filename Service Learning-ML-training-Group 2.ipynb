{
 "cells": [
  {
   "cell_type": "code",
   "execution_count": 16,
   "metadata": {},
   "outputs": [
    {
     "name": "stdout",
     "output_type": "stream",
     "text": [
      "2.15.0\n"
     ]
    }
   ],
   "source": [
    "from keras.preprocessing.image import ImageDataGenerator\n",
    "import keras\n",
    "from keras.models import Sequential\n",
    "from keras.layers import Input, Dense\n",
    "from keras.applications import ResNet50\n",
    "from keras.applications.resnet50 import preprocess_input\n",
    "import os\n",
    "print(keras.__version__)"
   ]
  },
  {
   "cell_type": "code",
   "execution_count": 17,
   "metadata": {},
   "outputs": [
    {
     "data": {
      "text/plain": [
       "''"
      ]
     },
     "execution_count": 17,
     "metadata": {},
     "output_type": "execute_result"
    }
   ],
   "source": [
    "num_classes = 3\n",
    "\n",
    "image_resize = 224\n",
    "\n",
    "batch_size_training = 5\n",
    "batch_size_validation = 5\n",
    "script_dir = os.path.dirname('SL_ResNetModel.ipynb')\n",
    "script_dir"
   ]
  },
  {
   "cell_type": "code",
   "execution_count": 18,
   "metadata": {},
   "outputs": [],
   "source": [
    "data_generator = ImageDataGenerator(\n",
    "    preprocessing_function=preprocess_input,\n",
    ")"
   ]
  },
  {
   "cell_type": "code",
   "execution_count": 19,
   "metadata": {},
   "outputs": [
    {
     "name": "stdout",
     "output_type": "stream",
     "text": [
      "Found 618 images belonging to 3 classes.\n"
     ]
    }
   ],
   "source": [
    "train_generator = data_generator.flow_from_directory(\n",
    "    './skin-disease-dataset/train_set',\n",
    "    target_size=(image_resize, image_resize),\n",
    "    batch_size=batch_size_training,\n",
    "    class_mode='categorical')"
   ]
  },
  {
   "cell_type": "code",
   "execution_count": 20,
   "metadata": {},
   "outputs": [
    {
     "name": "stdout",
     "output_type": "stream",
     "text": [
      "Found 87 images belonging to 3 classes.\n"
     ]
    }
   ],
   "source": [
    "validation_generator = data_generator.flow_from_directory(\n",
    "    './skin-disease-dataset/test_set/',\n",
    "    target_size=(image_resize, image_resize),\n",
    "    batch_size=batch_size_validation,\n",
    "    class_mode='categorical')"
   ]
  },
  {
   "cell_type": "code",
   "execution_count": 21,
   "metadata": {},
   "outputs": [],
   "source": [
    "model=Sequential()\n",
    "model.add(ResNet50(include_top=False,pooling='avg',weights='imagenet'))"
   ]
  },
  {
   "cell_type": "code",
   "execution_count": 8,
   "metadata": {},
   "outputs": [
    {
     "data": {
      "text/plain": [
       "[<keras.src.engine.functional.Functional at 0x283b911aa70>,\n",
       " <keras.src.layers.core.dense.Dense at 0x283fe880c10>]"
      ]
     },
     "execution_count": 8,
     "metadata": {},
     "output_type": "execute_result"
    }
   ],
   "source": [
    "model.add(Dense(num_classes, activation='softmax'))\n",
    "model.layers"
   ]
  },
  {
   "cell_type": "code",
   "execution_count": 9,
   "metadata": {},
   "outputs": [
    {
     "data": {
      "text/plain": [
       "[<keras.src.engine.input_layer.InputLayer at 0x283fe882800>,\n",
       " <keras.src.layers.reshaping.zero_padding2d.ZeroPadding2D at 0x283b5e79990>,\n",
       " <keras.src.layers.convolutional.conv2d.Conv2D at 0x283b5e79e40>,\n",
       " <keras.src.layers.normalization.batch_normalization.BatchNormalization at 0x283b5e7ab60>,\n",
       " <keras.src.layers.core.activation.Activation at 0x283b5e7b670>,\n",
       " <keras.src.layers.reshaping.zero_padding2d.ZeroPadding2D at 0x283b5e7bfd0>,\n",
       " <keras.src.layers.pooling.max_pooling2d.MaxPooling2D at 0x283b60b4dc0>,\n",
       " <keras.src.layers.convolutional.conv2d.Conv2D at 0x283b60b6e90>,\n",
       " <keras.src.layers.normalization.batch_normalization.BatchNormalization at 0x283b60b7100>,\n",
       " <keras.src.layers.core.activation.Activation at 0x283b60b7970>,\n",
       " <keras.src.layers.convolutional.conv2d.Conv2D at 0x283b60b53f0>,\n",
       " <keras.src.layers.normalization.batch_normalization.BatchNormalization at 0x283b5e7a770>,\n",
       " <keras.src.layers.core.activation.Activation at 0x283b5e7a380>,\n",
       " <keras.src.layers.convolutional.conv2d.Conv2D at 0x283b60b5690>,\n",
       " <keras.src.layers.convolutional.conv2d.Conv2D at 0x283b611e050>,\n",
       " <keras.src.layers.normalization.batch_normalization.BatchNormalization at 0x283b60b5840>,\n",
       " <keras.src.layers.normalization.batch_normalization.BatchNormalization at 0x283b611e230>,\n",
       " <keras.src.layers.merging.add.Add at 0x283b611ece0>,\n",
       " <keras.src.layers.core.activation.Activation at 0x283b611ffd0>,\n",
       " <keras.src.layers.convolutional.conv2d.Conv2D at 0x283b612c8e0>,\n",
       " <keras.src.layers.normalization.batch_normalization.BatchNormalization at 0x283b612c7f0>,\n",
       " <keras.src.layers.core.activation.Activation at 0x283b612df90>,\n",
       " <keras.src.layers.convolutional.conv2d.Conv2D at 0x283b612ce20>,\n",
       " <keras.src.layers.normalization.batch_normalization.BatchNormalization at 0x283b612e920>,\n",
       " <keras.src.layers.core.activation.Activation at 0x283b612fb50>,\n",
       " <keras.src.layers.convolutional.conv2d.Conv2D at 0x283b6158550>,\n",
       " <keras.src.layers.normalization.batch_normalization.BatchNormalization at 0x283b61589a0>,\n",
       " <keras.src.layers.merging.add.Add at 0x283b612e590>,\n",
       " <keras.src.layers.core.activation.Activation at 0x283b615a410>,\n",
       " <keras.src.layers.convolutional.conv2d.Conv2D at 0x283b615b2e0>,\n",
       " <keras.src.layers.normalization.batch_normalization.BatchNormalization at 0x283b615b2b0>,\n",
       " <keras.src.layers.core.activation.Activation at 0x283b615af50>,\n",
       " <keras.src.layers.convolutional.conv2d.Conv2D at 0x283b61645e0>,\n",
       " <keras.src.layers.normalization.batch_normalization.BatchNormalization at 0x283b6164a00>,\n",
       " <keras.src.layers.core.activation.Activation at 0x283b61668c0>,\n",
       " <keras.src.layers.convolutional.conv2d.Conv2D at 0x283b6166fb0>,\n",
       " <keras.src.layers.normalization.batch_normalization.BatchNormalization at 0x283b6167550>,\n",
       " <keras.src.layers.merging.add.Add at 0x283b6167f70>,\n",
       " <keras.src.layers.core.activation.Activation at 0x283b6180910>,\n",
       " <keras.src.layers.convolutional.conv2d.Conv2D at 0x283b6183250>,\n",
       " <keras.src.layers.normalization.batch_normalization.BatchNormalization at 0x283b61835b0>,\n",
       " <keras.src.layers.core.activation.Activation at 0x283b61839d0>,\n",
       " <keras.src.layers.convolutional.conv2d.Conv2D at 0x283b6195270>,\n",
       " <keras.src.layers.normalization.batch_normalization.BatchNormalization at 0x283b6195450>,\n",
       " <keras.src.layers.core.activation.Activation at 0x283b6180eb0>,\n",
       " <keras.src.layers.convolutional.conv2d.Conv2D at 0x283b6180e80>,\n",
       " <keras.src.layers.convolutional.conv2d.Conv2D at 0x283b6180fd0>,\n",
       " <keras.src.layers.normalization.batch_normalization.BatchNormalization at 0x283b6180220>,\n",
       " <keras.src.layers.normalization.batch_normalization.BatchNormalization at 0x283b6166bc0>,\n",
       " <keras.src.layers.merging.add.Add at 0x283b61800d0>,\n",
       " <keras.src.layers.core.activation.Activation at 0x283b611faf0>,\n",
       " <keras.src.layers.convolutional.conv2d.Conv2D at 0x283b61974f0>,\n",
       " <keras.src.layers.normalization.batch_normalization.BatchNormalization at 0x283b61948e0>,\n",
       " <keras.src.layers.core.activation.Activation at 0x283b6166a10>,\n",
       " <keras.src.layers.convolutional.conv2d.Conv2D at 0x283b61b86d0>,\n",
       " <keras.src.layers.normalization.batch_normalization.BatchNormalization at 0x283b61b8ac0>,\n",
       " <keras.src.layers.core.activation.Activation at 0x283b61ba530>,\n",
       " <keras.src.layers.convolutional.conv2d.Conv2D at 0x283b61b97e0>,\n",
       " <keras.src.layers.normalization.batch_normalization.BatchNormalization at 0x283b61bab30>,\n",
       " <keras.src.layers.merging.add.Add at 0x283b61bbac0>,\n",
       " <keras.src.layers.core.activation.Activation at 0x283b61c4280>,\n",
       " <keras.src.layers.convolutional.conv2d.Conv2D at 0x283b61b9270>,\n",
       " <keras.src.layers.normalization.batch_normalization.BatchNormalization at 0x283b61c55d0>,\n",
       " <keras.src.layers.core.activation.Activation at 0x283b61c66b0>,\n",
       " <keras.src.layers.convolutional.conv2d.Conv2D at 0x283b61c6da0>,\n",
       " <keras.src.layers.normalization.batch_normalization.BatchNormalization at 0x283b61c7340>,\n",
       " <keras.src.layers.core.activation.Activation at 0x283b61c4820>,\n",
       " <keras.src.layers.convolutional.conv2d.Conv2D at 0x283b61c71c0>,\n",
       " <keras.src.layers.normalization.batch_normalization.BatchNormalization at 0x283b61d4a30>,\n",
       " <keras.src.layers.merging.add.Add at 0x283b61c7ac0>,\n",
       " <keras.src.layers.core.activation.Activation at 0x283b61d73a0>,\n",
       " <keras.src.layers.convolutional.conv2d.Conv2D at 0x283b61d4a60>,\n",
       " <keras.src.layers.normalization.batch_normalization.BatchNormalization at 0x283b61d52a0>,\n",
       " <keras.src.layers.core.activation.Activation at 0x283b61d7460>,\n",
       " <keras.src.layers.convolutional.conv2d.Conv2D at 0x283b61f17e0>,\n",
       " <keras.src.layers.normalization.batch_normalization.BatchNormalization at 0x283b61f0760>,\n",
       " <keras.src.layers.core.activation.Activation at 0x283b61f3790>,\n",
       " <keras.src.layers.convolutional.conv2d.Conv2D at 0x283b61f10f0>,\n",
       " <keras.src.layers.normalization.batch_normalization.BatchNormalization at 0x283b61f2e60>,\n",
       " <keras.src.layers.merging.add.Add at 0x283b61f1210>,\n",
       " <keras.src.layers.core.activation.Activation at 0x283b620d6f0>,\n",
       " <keras.src.layers.convolutional.conv2d.Conv2D at 0x283b61bbdc0>,\n",
       " <keras.src.layers.normalization.batch_normalization.BatchNormalization at 0x283b6196aa0>,\n",
       " <keras.src.layers.core.activation.Activation at 0x283b620e7a0>,\n",
       " <keras.src.layers.convolutional.conv2d.Conv2D at 0x283b620d180>,\n",
       " <keras.src.layers.normalization.batch_normalization.BatchNormalization at 0x283b612cd90>,\n",
       " <keras.src.layers.core.activation.Activation at 0x283b61d4d30>,\n",
       " <keras.src.layers.convolutional.conv2d.Conv2D at 0x283b61f2f80>,\n",
       " <keras.src.layers.convolutional.conv2d.Conv2D at 0x283b620f730>,\n",
       " <keras.src.layers.normalization.batch_normalization.BatchNormalization at 0x283b61f3460>,\n",
       " <keras.src.layers.normalization.batch_normalization.BatchNormalization at 0x283b62203d0>,\n",
       " <keras.src.layers.merging.add.Add at 0x283b620f5e0>,\n",
       " <keras.src.layers.core.activation.Activation at 0x283b6223010>,\n",
       " <keras.src.layers.convolutional.conv2d.Conv2D at 0x283b6220820>,\n",
       " <keras.src.layers.normalization.batch_normalization.BatchNormalization at 0x283b6223e20>,\n",
       " <keras.src.layers.core.activation.Activation at 0x283b6223a30>,\n",
       " <keras.src.layers.convolutional.conv2d.Conv2D at 0x283b62253f0>,\n",
       " <keras.src.layers.normalization.batch_normalization.BatchNormalization at 0x283b6225630>,\n",
       " <keras.src.layers.core.activation.Activation at 0x283b6227400>,\n",
       " <keras.src.layers.convolutional.conv2d.Conv2D at 0x283b6224af0>,\n",
       " <keras.src.layers.normalization.batch_normalization.BatchNormalization at 0x283b62252d0>,\n",
       " <keras.src.layers.merging.add.Add at 0x283b6226590>,\n",
       " <keras.src.layers.core.activation.Activation at 0x283b623c5b0>,\n",
       " <keras.src.layers.convolutional.conv2d.Conv2D at 0x283b623e260>,\n",
       " <keras.src.layers.normalization.batch_normalization.BatchNormalization at 0x283b623e230>,\n",
       " <keras.src.layers.core.activation.Activation at 0x283b623f400>,\n",
       " <keras.src.layers.convolutional.conv2d.Conv2D at 0x283b623fb20>,\n",
       " <keras.src.layers.normalization.batch_normalization.BatchNormalization at 0x283b623e650>,\n",
       " <keras.src.layers.core.activation.Activation at 0x283b623fc70>,\n",
       " <keras.src.layers.convolutional.conv2d.Conv2D at 0x283b90657b0>,\n",
       " <keras.src.layers.normalization.batch_normalization.BatchNormalization at 0x283b9065d50>,\n",
       " <keras.src.layers.merging.add.Add at 0x283b9066d70>,\n",
       " <keras.src.layers.core.activation.Activation at 0x283b9067fd0>,\n",
       " <keras.src.layers.convolutional.conv2d.Conv2D at 0x283b907c190>,\n",
       " <keras.src.layers.normalization.batch_normalization.BatchNormalization at 0x283b9067ac0>,\n",
       " <keras.src.layers.core.activation.Activation at 0x283b90659c0>,\n",
       " <keras.src.layers.convolutional.conv2d.Conv2D at 0x283b623e800>,\n",
       " <keras.src.layers.normalization.batch_normalization.BatchNormalization at 0x283b6221b40>,\n",
       " <keras.src.layers.core.activation.Activation at 0x283b6220220>,\n",
       " <keras.src.layers.convolutional.conv2d.Conv2D at 0x283b6196320>,\n",
       " <keras.src.layers.normalization.batch_normalization.BatchNormalization at 0x283b620e8c0>,\n",
       " <keras.src.layers.merging.add.Add at 0x283b9064f70>,\n",
       " <keras.src.layers.core.activation.Activation at 0x283b907efe0>,\n",
       " <keras.src.layers.convolutional.conv2d.Conv2D at 0x283b907feb0>,\n",
       " <keras.src.layers.normalization.batch_normalization.BatchNormalization at 0x283b907ffa0>,\n",
       " <keras.src.layers.core.activation.Activation at 0x283b908d090>,\n",
       " <keras.src.layers.convolutional.conv2d.Conv2D at 0x283b908d780>,\n",
       " <keras.src.layers.normalization.batch_normalization.BatchNormalization at 0x283b908dd20>,\n",
       " <keras.src.layers.core.activation.Activation at 0x283b908f490>,\n",
       " <keras.src.layers.convolutional.conv2d.Conv2D at 0x283b908fb80>,\n",
       " <keras.src.layers.normalization.batch_normalization.BatchNormalization at 0x283b908e410>,\n",
       " <keras.src.layers.merging.add.Add at 0x283b908f7f0>,\n",
       " <keras.src.layers.core.activation.Activation at 0x283b909dab0>,\n",
       " <keras.src.layers.convolutional.conv2d.Conv2D at 0x283b909c760>,\n",
       " <keras.src.layers.normalization.batch_normalization.BatchNormalization at 0x283b909c1c0>,\n",
       " <keras.src.layers.core.activation.Activation at 0x283b909fee0>,\n",
       " <keras.src.layers.convolutional.conv2d.Conv2D at 0x283b909df00>,\n",
       " <keras.src.layers.normalization.batch_normalization.BatchNormalization at 0x283b90b4550>,\n",
       " <keras.src.layers.core.activation.Activation at 0x283b90b4e20>,\n",
       " <keras.src.layers.convolutional.conv2d.Conv2D at 0x283b90b53f0>,\n",
       " <keras.src.layers.normalization.batch_normalization.BatchNormalization at 0x283b90b6590>,\n",
       " <keras.src.layers.merging.add.Add at 0x283b90b7520>,\n",
       " <keras.src.layers.core.activation.Activation at 0x283b90b5ff0>,\n",
       " <keras.src.layers.convolutional.conv2d.Conv2D at 0x283b90b77f0>,\n",
       " <keras.src.layers.normalization.batch_normalization.BatchNormalization at 0x283b90d35b0>,\n",
       " <keras.src.layers.core.activation.Activation at 0x283b90d38b0>,\n",
       " <keras.src.layers.convolutional.conv2d.Conv2D at 0x283b90d1e40>,\n",
       " <keras.src.layers.normalization.batch_normalization.BatchNormalization at 0x283b90d2140>,\n",
       " <keras.src.layers.core.activation.Activation at 0x283b90d1390>,\n",
       " <keras.src.layers.convolutional.conv2d.Conv2D at 0x283b90b62f0>,\n",
       " <keras.src.layers.convolutional.conv2d.Conv2D at 0x283b909ee00>,\n",
       " <keras.src.layers.normalization.batch_normalization.BatchNormalization at 0x283b90d0dc0>,\n",
       " <keras.src.layers.normalization.batch_normalization.BatchNormalization at 0x283b90b76a0>,\n",
       " <keras.src.layers.merging.add.Add at 0x283b6220a30>,\n",
       " <keras.src.layers.core.activation.Activation at 0x283b907cd60>,\n",
       " <keras.src.layers.convolutional.conv2d.Conv2D at 0x283b908d390>,\n",
       " <keras.src.layers.normalization.batch_normalization.BatchNormalization at 0x283b908c700>,\n",
       " <keras.src.layers.core.activation.Activation at 0x283b90d2320>,\n",
       " <keras.src.layers.convolutional.conv2d.Conv2D at 0x283b90e5d50>,\n",
       " <keras.src.layers.normalization.batch_normalization.BatchNormalization at 0x283b90e5360>,\n",
       " <keras.src.layers.core.activation.Activation at 0x283b90e4130>,\n",
       " <keras.src.layers.convolutional.conv2d.Conv2D at 0x283b90e71c0>,\n",
       " <keras.src.layers.normalization.batch_normalization.BatchNormalization at 0x283b90e63e0>,\n",
       " <keras.src.layers.merging.add.Add at 0x283b90e7d30>,\n",
       " <keras.src.layers.core.activation.Activation at 0x283b90e69b0>,\n",
       " <keras.src.layers.convolutional.conv2d.Conv2D at 0x283b90fc8e0>,\n",
       " <keras.src.layers.normalization.batch_normalization.BatchNormalization at 0x283b90e5600>,\n",
       " <keras.src.layers.core.activation.Activation at 0x283b90fd150>,\n",
       " <keras.src.layers.convolutional.conv2d.Conv2D at 0x283b90fea70>,\n",
       " <keras.src.layers.normalization.batch_normalization.BatchNormalization at 0x283b90ff7c0>,\n",
       " <keras.src.layers.core.activation.Activation at 0x283b90ffeb0>,\n",
       " <keras.src.layers.convolutional.conv2d.Conv2D at 0x283b90fc6a0>,\n",
       " <keras.src.layers.normalization.batch_normalization.BatchNormalization at 0x283b90fe410>,\n",
       " <keras.src.layers.merging.add.Add at 0x283b90ff790>,\n",
       " <keras.src.layers.core.activation.Activation at 0x283b9119fc0>,\n",
       " <keras.src.layers.pooling.global_average_pooling2d.GlobalAveragePooling2D at 0x283b9119f00>]"
      ]
     },
     "execution_count": 9,
     "metadata": {},
     "output_type": "execute_result"
    }
   ],
   "source": [
    "model.layers[0].layers"
   ]
  },
  {
   "cell_type": "code",
   "execution_count": 10,
   "metadata": {},
   "outputs": [],
   "source": [
    "model.layers[0].trainable = False"
   ]
  },
  {
   "cell_type": "code",
   "execution_count": 11,
   "metadata": {},
   "outputs": [
    {
     "name": "stdout",
     "output_type": "stream",
     "text": [
      "Model: \"sequential\"\n",
      "_________________________________________________________________\n",
      " Layer (type)                Output Shape              Param #   \n",
      "=================================================================\n",
      " resnet50 (Functional)       (None, 2048)              23587712  \n",
      "                                                                 \n",
      " dense (Dense)               (None, 3)                 6147      \n",
      "                                                                 \n",
      "=================================================================\n",
      "Total params: 23593859 (90.00 MB)\n",
      "Trainable params: 6147 (24.01 KB)\n",
      "Non-trainable params: 23587712 (89.98 MB)\n",
      "_________________________________________________________________\n"
     ]
    }
   ],
   "source": [
    "model.summary()"
   ]
  },
  {
   "cell_type": "code",
   "execution_count": 12,
   "metadata": {},
   "outputs": [
    {
     "name": "stdout",
     "output_type": "stream",
     "text": [
      "WARNING:tensorflow:From c:\\Users\\Cliff\\AppData\\Local\\Programs\\Python\\Python310\\lib\\site-packages\\keras\\src\\optimizers\\__init__.py:309: The name tf.train.Optimizer is deprecated. Please use tf.compat.v1.train.Optimizer instead.\n",
      "\n"
     ]
    }
   ],
   "source": [
    "model.compile(optimizer='adam', loss='categorical_crossentropy', metrics=['accuracy'])"
   ]
  },
  {
   "cell_type": "code",
   "execution_count": 13,
   "metadata": {},
   "outputs": [
    {
     "name": "stdout",
     "output_type": "stream",
     "text": [
      "60\n"
     ]
    }
   ],
   "source": [
    "steps_per_epoch_training = 60\n",
    "steps_per_epoch_validation = 60\n",
    "num_epochs = 30\n",
    "print (steps_per_epoch_validation)"
   ]
  },
  {
   "cell_type": "code",
   "execution_count": 14,
   "metadata": {},
   "outputs": [
    {
     "name": "stdout",
     "output_type": "stream",
     "text": [
      "Epoch 1/30\n",
      "WARNING:tensorflow:From c:\\Users\\Cliff\\AppData\\Local\\Programs\\Python\\Python310\\lib\\site-packages\\keras\\src\\utils\\tf_utils.py:492: The name tf.ragged.RaggedTensorValue is deprecated. Please use tf.compat.v1.ragged.RaggedTensorValue instead.\n",
      "\n",
      "WARNING:tensorflow:From c:\\Users\\Cliff\\AppData\\Local\\Programs\\Python\\Python310\\lib\\site-packages\\keras\\src\\engine\\base_layer_utils.py:384: The name tf.executing_eagerly_outside_functions is deprecated. Please use tf.compat.v1.executing_eagerly_outside_functions instead.\n",
      "\n",
      "60/60 [==============================] - ETA: 0s - loss: 0.7817 - accuracy: 0.7349WARNING:tensorflow:Your input ran out of data; interrupting training. Make sure that your dataset or generator can generate at least `steps_per_epoch * epochs` batches (in this case, 60 batches). You may need to use the repeat() function when building your dataset.\n",
      "60/60 [==============================] - 19s 270ms/step - loss: 0.7817 - accuracy: 0.7349 - val_loss: 0.1959 - val_accuracy: 0.9310\n",
      "Epoch 2/30\n",
      "38/60 [==================>...........] - ETA: 4s - loss: 0.3046 - accuracy: 0.8895"
     ]
    },
    {
     "name": "stderr",
     "output_type": "stream",
     "text": [
      "c:\\Users\\Cliff\\AppData\\Local\\Programs\\Python\\Python310\\lib\\site-packages\\PIL\\Image.py:959: UserWarning: Palette images with Transparency expressed in bytes should be converted to RGBA images\n",
      "  warnings.warn(\n"
     ]
    },
    {
     "name": "stdout",
     "output_type": "stream",
     "text": [
      "60/60 [==============================] - 13s 210ms/step - loss: 0.2837 - accuracy: 0.8933\n",
      "Epoch 3/30\n",
      "60/60 [==============================] - 14s 234ms/step - loss: 0.2225 - accuracy: 0.9267\n",
      "Epoch 4/30\n",
      "60/60 [==============================] - 14s 228ms/step - loss: 0.1436 - accuracy: 0.9633\n",
      "Epoch 5/30\n",
      "60/60 [==============================] - 14s 225ms/step - loss: 0.1164 - accuracy: 0.9597\n",
      "Epoch 6/30\n",
      "60/60 [==============================] - 13s 215ms/step - loss: 0.0930 - accuracy: 0.9765\n",
      "Epoch 7/30\n",
      "60/60 [==============================] - 13s 216ms/step - loss: 0.0738 - accuracy: 0.9900\n",
      "Epoch 8/30\n",
      "60/60 [==============================] - 13s 219ms/step - loss: 0.0385 - accuracy: 0.9966\n",
      "Epoch 9/30\n",
      "60/60 [==============================] - 13s 219ms/step - loss: 0.0496 - accuracy: 0.9933\n",
      "Epoch 10/30\n",
      "60/60 [==============================] - 13s 223ms/step - loss: 0.0334 - accuracy: 0.9967\n",
      "Epoch 11/30\n",
      "60/60 [==============================] - 12s 207ms/step - loss: 0.0231 - accuracy: 1.0000\n",
      "Epoch 12/30\n",
      "60/60 [==============================] - 13s 214ms/step - loss: 0.0330 - accuracy: 0.9933\n",
      "Epoch 13/30\n",
      "60/60 [==============================] - 13s 219ms/step - loss: 0.0202 - accuracy: 1.0000\n",
      "Epoch 14/30\n",
      "60/60 [==============================] - 12s 194ms/step - loss: 0.0184 - accuracy: 1.0000\n",
      "Epoch 15/30\n",
      "60/60 [==============================] - 12s 207ms/step - loss: 0.0185 - accuracy: 1.0000\n",
      "Epoch 16/30\n",
      "60/60 [==============================] - 14s 226ms/step - loss: 0.0142 - accuracy: 1.0000\n",
      "Epoch 17/30\n",
      "60/60 [==============================] - 11s 191ms/step - loss: 0.0128 - accuracy: 1.0000\n",
      "Epoch 18/30\n",
      "60/60 [==============================] - 13s 217ms/step - loss: 0.0126 - accuracy: 1.0000\n",
      "Epoch 19/30\n",
      "60/60 [==============================] - 13s 219ms/step - loss: 0.0106 - accuracy: 1.0000\n",
      "Epoch 20/30\n",
      "60/60 [==============================] - 13s 219ms/step - loss: 0.0100 - accuracy: 1.0000\n",
      "Epoch 21/30\n",
      "60/60 [==============================] - 13s 218ms/step - loss: 0.0088 - accuracy: 1.0000\n",
      "Epoch 22/30\n",
      "60/60 [==============================] - 13s 212ms/step - loss: 0.0088 - accuracy: 1.0000\n",
      "Epoch 23/30\n",
      "60/60 [==============================] - 13s 210ms/step - loss: 0.0074 - accuracy: 1.0000\n",
      "Epoch 24/30\n",
      "60/60 [==============================] - 13s 223ms/step - loss: 0.0066 - accuracy: 1.0000\n",
      "Epoch 25/30\n",
      "60/60 [==============================] - 13s 213ms/step - loss: 0.0053 - accuracy: 1.0000\n",
      "Epoch 26/30\n",
      "60/60 [==============================] - 12s 203ms/step - loss: 0.0065 - accuracy: 1.0000\n",
      "Epoch 27/30\n",
      "60/60 [==============================] - 11s 189ms/step - loss: 0.0051 - accuracy: 1.0000\n",
      "Epoch 28/30\n",
      "60/60 [==============================] - 13s 217ms/step - loss: 0.0068 - accuracy: 1.0000\n",
      "Epoch 29/30\n",
      "60/60 [==============================] - 12s 205ms/step - loss: 0.0048 - accuracy: 1.0000\n",
      "Epoch 30/30\n",
      "60/60 [==============================] - 12s 208ms/step - loss: 0.0054 - accuracy: 1.0000\n"
     ]
    }
   ],
   "source": [
    "fit_history = model.fit(\n",
    "    train_generator,\n",
    "    steps_per_epoch=steps_per_epoch_training,\n",
    "    epochs=num_epochs,\n",
    "    validation_data=validation_generator,\n",
    "    validation_steps=steps_per_epoch_validation,\n",
    "    verbose=1,\n",
    ")"
   ]
  },
  {
   "cell_type": "code",
   "execution_count": 15,
   "metadata": {},
   "outputs": [],
   "source": [
    "model.save('classifier_resnet_model.keras')"
   ]
  },
  {
   "cell_type": "code",
   "execution_count": null,
   "metadata": {},
   "outputs": [],
   "source": []
  }
 ],
 "metadata": {
  "kernelspec": {
   "display_name": "Python 3 (ipykernel)",
   "language": "python",
   "name": "python3"
  },
  "language_info": {
   "codemirror_mode": {
    "name": "ipython",
    "version": 3
   },
   "file_extension": ".py",
   "mimetype": "text/x-python",
   "name": "python",
   "nbconvert_exporter": "python",
   "pygments_lexer": "ipython3",
   "version": "3.10.1"
  }
 },
 "nbformat": 4,
 "nbformat_minor": 2
}
